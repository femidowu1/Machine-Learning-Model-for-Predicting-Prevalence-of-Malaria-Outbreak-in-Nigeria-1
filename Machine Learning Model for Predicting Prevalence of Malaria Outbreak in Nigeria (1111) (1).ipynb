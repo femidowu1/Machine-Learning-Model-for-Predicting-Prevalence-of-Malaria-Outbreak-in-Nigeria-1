{
 "cells": [
  {
   "cell_type": "markdown",
   "id": "83a2daad",
   "metadata": {},
   "source": [
    "# MACHINE LEARNING MODEL FOR PREDICTING THE PREVALENCE OF MALARIA OUTBREAK IN NIGERIA (2009-2018)\n",
    "Executive Summary:\n",
    "\n",
    "This project seeks to get the prevalence of malaria outbreak in Nigeria using a dataset sourced from Kaggle.com, in order to determine the age group that is most susceptible to the disease. Deliverables:\n",
    "\n",
    "• The age group that is most susceptible to malaria attack;\n",
    "\n",
    "• The gender that is most prone to malaria attack based on age group;\n",
    "\n",
    "• The State with the highest incidence of malaria attack in Nigeria;\n",
    "\n",
    "• The Geopolitical Zone that is most susceptible to malaria attacks;\n",
    "\n",
    "• It also answers the question if the state with the highest incidence suffers the greatest fatality."
   ]
  },
  {
   "cell_type": "code",
   "execution_count": 2,
   "id": "95a96ed8",
   "metadata": {},
   "outputs": [],
   "source": [
    "# Import all libraries to carry out an EDA\n",
    "import pandas as pd\n",
    "import numpy as np\n",
    "import seaborn as sns\n",
    "import matplotlib.pyplot as plt\n",
    "%matplotlib inline"
   ]
  },
  {
   "cell_type": "code",
   "execution_count": 3,
   "id": "d42c865a",
   "metadata": {},
   "outputs": [],
   "source": [
    "# Load data set\n",
    "df_malaria = pd.read_csv('malaria_dataset.csv')"
   ]
  },
  {
   "cell_type": "code",
   "execution_count": 4,
   "id": "04a1613b",
   "metadata": {},
   "outputs": [
    {
     "data": {
      "text/plain": [
       "(284484, 41)"
      ]
     },
     "execution_count": 4,
     "metadata": {},
     "output_type": "execute_result"
    }
   ],
   "source": [
    "#To know number of rows and columns\n",
    "df_malaria.shape"
   ]
  },
  {
   "cell_type": "code",
   "execution_count": 5,
   "id": "bc8c52b8",
   "metadata": {},
   "outputs": [
    {
     "data": {
      "text/html": [
       "<div>\n",
       "<style scoped>\n",
       "    .dataframe tbody tr th:only-of-type {\n",
       "        vertical-align: middle;\n",
       "    }\n",
       "\n",
       "    .dataframe tbody tr th {\n",
       "        vertical-align: top;\n",
       "    }\n",
       "\n",
       "    .dataframe thead th {\n",
       "        text-align: right;\n",
       "    }\n",
       "</style>\n",
       "<table border=\"1\" class=\"dataframe\">\n",
       "  <thead>\n",
       "    <tr style=\"text-align: right;\">\n",
       "      <th></th>\n",
       "      <th>id</th>\n",
       "      <th>surname</th>\n",
       "      <th>firstname</th>\n",
       "      <th>middlename</th>\n",
       "      <th>gender</th>\n",
       "      <th>gender_male</th>\n",
       "      <th>gender_female</th>\n",
       "      <th>state</th>\n",
       "      <th>Region</th>\n",
       "      <th>settlement</th>\n",
       "      <th>...</th>\n",
       "      <th>NmA</th>\n",
       "      <th>NmC</th>\n",
       "      <th>NmW</th>\n",
       "      <th>health_status</th>\n",
       "      <th>alive</th>\n",
       "      <th>dead</th>\n",
       "      <th>report_outcome</th>\n",
       "      <th>unconfirmed</th>\n",
       "      <th>confirmed</th>\n",
       "      <th>null_serotype</th>\n",
       "    </tr>\n",
       "  </thead>\n",
       "  <tbody>\n",
       "    <tr>\n",
       "      <th>0</th>\n",
       "      <td>1</td>\n",
       "      <td>Solade</td>\n",
       "      <td>Grace</td>\n",
       "      <td>Solape</td>\n",
       "      <td>Female</td>\n",
       "      <td>0</td>\n",
       "      <td>1</td>\n",
       "      <td>Rivers</td>\n",
       "      <td>South-South</td>\n",
       "      <td>Rural</td>\n",
       "      <td>...</td>\n",
       "      <td>0</td>\n",
       "      <td>0</td>\n",
       "      <td>0</td>\n",
       "      <td>Alive</td>\n",
       "      <td>1</td>\n",
       "      <td>0</td>\n",
       "      <td>confirmed</td>\n",
       "      <td>0</td>\n",
       "      <td>1</td>\n",
       "      <td>1</td>\n",
       "    </tr>\n",
       "    <tr>\n",
       "      <th>1</th>\n",
       "      <td>2</td>\n",
       "      <td>Eneche</td>\n",
       "      <td>Kure</td>\n",
       "      <td>Balogun</td>\n",
       "      <td>Male</td>\n",
       "      <td>1</td>\n",
       "      <td>0</td>\n",
       "      <td>Ebonyi</td>\n",
       "      <td>South East</td>\n",
       "      <td>Rural</td>\n",
       "      <td>...</td>\n",
       "      <td>0</td>\n",
       "      <td>0</td>\n",
       "      <td>1</td>\n",
       "      <td>Alive</td>\n",
       "      <td>1</td>\n",
       "      <td>0</td>\n",
       "      <td>Confirmed</td>\n",
       "      <td>1</td>\n",
       "      <td>0</td>\n",
       "      <td>1</td>\n",
       "    </tr>\n",
       "    <tr>\n",
       "      <th>2</th>\n",
       "      <td>3</td>\n",
       "      <td>Sanusi</td>\n",
       "      <td>Adaugo</td>\n",
       "      <td>Katerine</td>\n",
       "      <td>Female</td>\n",
       "      <td>0</td>\n",
       "      <td>1</td>\n",
       "      <td>Ogun</td>\n",
       "      <td>South West</td>\n",
       "      <td>Urban</td>\n",
       "      <td>...</td>\n",
       "      <td>0</td>\n",
       "      <td>0</td>\n",
       "      <td>1</td>\n",
       "      <td>Dead</td>\n",
       "      <td>0</td>\n",
       "      <td>1</td>\n",
       "      <td>Not Confirmed</td>\n",
       "      <td>1</td>\n",
       "      <td>0</td>\n",
       "      <td>1</td>\n",
       "    </tr>\n",
       "    <tr>\n",
       "      <th>3</th>\n",
       "      <td>4</td>\n",
       "      <td>Sowore</td>\n",
       "      <td>Mooslemat</td>\n",
       "      <td>Ifedayo</td>\n",
       "      <td>Female</td>\n",
       "      <td>0</td>\n",
       "      <td>1</td>\n",
       "      <td>Ondo</td>\n",
       "      <td>South West</td>\n",
       "      <td>Rural</td>\n",
       "      <td>...</td>\n",
       "      <td>0</td>\n",
       "      <td>0</td>\n",
       "      <td>1</td>\n",
       "      <td>Alive</td>\n",
       "      <td>1</td>\n",
       "      <td>0</td>\n",
       "      <td>Not Confirmed</td>\n",
       "      <td>1</td>\n",
       "      <td>0</td>\n",
       "      <td>1</td>\n",
       "    </tr>\n",
       "    <tr>\n",
       "      <th>4</th>\n",
       "      <td>5</td>\n",
       "      <td>Abdusalam</td>\n",
       "      <td>Yusuf</td>\n",
       "      <td>Okafor</td>\n",
       "      <td>Male</td>\n",
       "      <td>1</td>\n",
       "      <td>0</td>\n",
       "      <td>Oyo</td>\n",
       "      <td>South West</td>\n",
       "      <td>Urban</td>\n",
       "      <td>...</td>\n",
       "      <td>0</td>\n",
       "      <td>0</td>\n",
       "      <td>1</td>\n",
       "      <td>Alive</td>\n",
       "      <td>1</td>\n",
       "      <td>0</td>\n",
       "      <td>Confirmed</td>\n",
       "      <td>1</td>\n",
       "      <td>0</td>\n",
       "      <td>1</td>\n",
       "    </tr>\n",
       "  </tbody>\n",
       "</table>\n",
       "<p>5 rows × 41 columns</p>\n",
       "</div>"
      ],
      "text/plain": [
       "   id    surname  firstname middlename  gender  gender_male  gender_female  \\\n",
       "0   1     Solade      Grace     Solape  Female            0              1   \n",
       "1   2     Eneche       Kure    Balogun    Male            1              0   \n",
       "2   3     Sanusi     Adaugo   Katerine  Female            0              1   \n",
       "3   4     Sowore  Mooslemat    Ifedayo  Female            0              1   \n",
       "4   5  Abdusalam      Yusuf     Okafor    Male            1              0   \n",
       "\n",
       "    state       Region settlement  ...  NmA  NmC NmW  health_status  alive  \\\n",
       "0  Rivers  South-South      Rural  ...    0    0   0          Alive      1   \n",
       "1  Ebonyi   South East      Rural  ...    0    0   1          Alive      1   \n",
       "2    Ogun   South West      Urban  ...    0    0   1           Dead      0   \n",
       "3    Ondo   South West      Rural  ...    0    0   1          Alive      1   \n",
       "4     Oyo   South West      Urban  ...    0    0   1          Alive      1   \n",
       "\n",
       "  dead report_outcome  unconfirmed  confirmed null_serotype  \n",
       "0    0      confirmed            0          1             1  \n",
       "1    0      Confirmed            1          0             1  \n",
       "2    1  Not Confirmed            1          0             1  \n",
       "3    0  Not Confirmed            1          0             1  \n",
       "4    0      Confirmed            1          0             1  \n",
       "\n",
       "[5 rows x 41 columns]"
      ]
     },
     "execution_count": 5,
     "metadata": {},
     "output_type": "execute_result"
    }
   ],
   "source": [
    "# Header (To check the first 5 rows)\n",
    "df_malaria.head()"
   ]
  },
  {
   "cell_type": "code",
   "execution_count": 6,
   "id": "d48e434b",
   "metadata": {},
   "outputs": [
    {
     "data": {
      "text/html": [
       "<div>\n",
       "<style scoped>\n",
       "    .dataframe tbody tr th:only-of-type {\n",
       "        vertical-align: middle;\n",
       "    }\n",
       "\n",
       "    .dataframe tbody tr th {\n",
       "        vertical-align: top;\n",
       "    }\n",
       "\n",
       "    .dataframe thead th {\n",
       "        text-align: right;\n",
       "    }\n",
       "</style>\n",
       "<table border=\"1\" class=\"dataframe\">\n",
       "  <thead>\n",
       "    <tr style=\"text-align: right;\">\n",
       "      <th></th>\n",
       "      <th>id</th>\n",
       "      <th>surname</th>\n",
       "      <th>firstname</th>\n",
       "      <th>middlename</th>\n",
       "      <th>gender</th>\n",
       "      <th>gender_male</th>\n",
       "      <th>gender_female</th>\n",
       "      <th>state</th>\n",
       "      <th>Region</th>\n",
       "      <th>settlement</th>\n",
       "      <th>...</th>\n",
       "      <th>NmA</th>\n",
       "      <th>NmC</th>\n",
       "      <th>NmW</th>\n",
       "      <th>health_status</th>\n",
       "      <th>alive</th>\n",
       "      <th>dead</th>\n",
       "      <th>report_outcome</th>\n",
       "      <th>unconfirmed</th>\n",
       "      <th>confirmed</th>\n",
       "      <th>null_serotype</th>\n",
       "    </tr>\n",
       "  </thead>\n",
       "  <tbody>\n",
       "    <tr>\n",
       "      <th>284479</th>\n",
       "      <td>288418</td>\n",
       "      <td>Mukthar</td>\n",
       "      <td>Alimat</td>\n",
       "      <td>Ajibewa</td>\n",
       "      <td>Female</td>\n",
       "      <td>0</td>\n",
       "      <td>1</td>\n",
       "      <td>Cross River</td>\n",
       "      <td>South-South</td>\n",
       "      <td>Rural</td>\n",
       "      <td>...</td>\n",
       "      <td>0</td>\n",
       "      <td>0</td>\n",
       "      <td>1</td>\n",
       "      <td>Dead</td>\n",
       "      <td>0</td>\n",
       "      <td>1</td>\n",
       "      <td>Confirmed</td>\n",
       "      <td>1</td>\n",
       "      <td>0</td>\n",
       "      <td>1</td>\n",
       "    </tr>\n",
       "    <tr>\n",
       "      <th>284480</th>\n",
       "      <td>288419</td>\n",
       "      <td>Akenzua</td>\n",
       "      <td>Deborah</td>\n",
       "      <td>Rofeeqat</td>\n",
       "      <td>Female</td>\n",
       "      <td>0</td>\n",
       "      <td>1</td>\n",
       "      <td>Kwara</td>\n",
       "      <td>North Central</td>\n",
       "      <td>Urban</td>\n",
       "      <td>...</td>\n",
       "      <td>0</td>\n",
       "      <td>0</td>\n",
       "      <td>1</td>\n",
       "      <td>Dead</td>\n",
       "      <td>0</td>\n",
       "      <td>1</td>\n",
       "      <td>Confirmed</td>\n",
       "      <td>1</td>\n",
       "      <td>0</td>\n",
       "      <td>1</td>\n",
       "    </tr>\n",
       "    <tr>\n",
       "      <th>284481</th>\n",
       "      <td>288420</td>\n",
       "      <td>Isa</td>\n",
       "      <td>Deborah</td>\n",
       "      <td>Tofunmi</td>\n",
       "      <td>Female</td>\n",
       "      <td>0</td>\n",
       "      <td>1</td>\n",
       "      <td>Katsina</td>\n",
       "      <td>North West</td>\n",
       "      <td>Rural</td>\n",
       "      <td>...</td>\n",
       "      <td>0</td>\n",
       "      <td>0</td>\n",
       "      <td>1</td>\n",
       "      <td>Alive</td>\n",
       "      <td>1</td>\n",
       "      <td>0</td>\n",
       "      <td>Confirmed</td>\n",
       "      <td>0</td>\n",
       "      <td>1</td>\n",
       "      <td>1</td>\n",
       "    </tr>\n",
       "    <tr>\n",
       "      <th>284482</th>\n",
       "      <td>288421</td>\n",
       "      <td>Uba</td>\n",
       "      <td>Ismail</td>\n",
       "      <td>Akpabio</td>\n",
       "      <td>Male</td>\n",
       "      <td>1</td>\n",
       "      <td>0</td>\n",
       "      <td>Jigawa</td>\n",
       "      <td>North West</td>\n",
       "      <td>Rural</td>\n",
       "      <td>...</td>\n",
       "      <td>0</td>\n",
       "      <td>0</td>\n",
       "      <td>1</td>\n",
       "      <td>Dead</td>\n",
       "      <td>0</td>\n",
       "      <td>1</td>\n",
       "      <td>Not Confirmed</td>\n",
       "      <td>1</td>\n",
       "      <td>0</td>\n",
       "      <td>1</td>\n",
       "    </tr>\n",
       "    <tr>\n",
       "      <th>284483</th>\n",
       "      <td>288422</td>\n",
       "      <td>Alao</td>\n",
       "      <td>Paulina</td>\n",
       "      <td>Sade</td>\n",
       "      <td>Female</td>\n",
       "      <td>0</td>\n",
       "      <td>1</td>\n",
       "      <td>Kogi</td>\n",
       "      <td>North Central</td>\n",
       "      <td>Urban</td>\n",
       "      <td>...</td>\n",
       "      <td>0</td>\n",
       "      <td>0</td>\n",
       "      <td>1</td>\n",
       "      <td>Alive</td>\n",
       "      <td>1</td>\n",
       "      <td>0</td>\n",
       "      <td>Confirmed</td>\n",
       "      <td>0</td>\n",
       "      <td>1</td>\n",
       "      <td>1</td>\n",
       "    </tr>\n",
       "  </tbody>\n",
       "</table>\n",
       "<p>5 rows × 41 columns</p>\n",
       "</div>"
      ],
      "text/plain": [
       "            id  surname firstname middlename  gender  gender_male  \\\n",
       "284479  288418  Mukthar    Alimat    Ajibewa  Female            0   \n",
       "284480  288419  Akenzua   Deborah   Rofeeqat  Female            0   \n",
       "284481  288420      Isa   Deborah    Tofunmi  Female            0   \n",
       "284482  288421      Uba    Ismail    Akpabio    Male            1   \n",
       "284483  288422     Alao   Paulina       Sade  Female            0   \n",
       "\n",
       "        gender_female        state         Region settlement  ...  NmA  NmC  \\\n",
       "284479              1  Cross River    South-South      Rural  ...    0    0   \n",
       "284480              1        Kwara  North Central      Urban  ...    0    0   \n",
       "284481              1      Katsina     North West      Rural  ...    0    0   \n",
       "284482              0       Jigawa     North West      Rural  ...    0    0   \n",
       "284483              1         Kogi  North Central      Urban  ...    0    0   \n",
       "\n",
       "       NmW  health_status  alive dead report_outcome  unconfirmed  confirmed  \\\n",
       "284479   1           Dead      0    1      Confirmed            1          0   \n",
       "284480   1           Dead      0    1      Confirmed            1          0   \n",
       "284481   1          Alive      1    0      Confirmed            0          1   \n",
       "284482   1           Dead      0    1  Not Confirmed            1          0   \n",
       "284483   1          Alive      1    0      Confirmed            0          1   \n",
       "\n",
       "       null_serotype  \n",
       "284479             1  \n",
       "284480             1  \n",
       "284481             1  \n",
       "284482             1  \n",
       "284483             1  \n",
       "\n",
       "[5 rows x 41 columns]"
      ]
     },
     "execution_count": 6,
     "metadata": {},
     "output_type": "execute_result"
    }
   ],
   "source": [
    "# Footer(To check the last 5 rows)\n",
    "df_malaria.tail()"
   ]
  },
  {
   "cell_type": "code",
   "execution_count": 7,
   "id": "ee61b7fe",
   "metadata": {},
   "outputs": [
    {
     "data": {
      "text/plain": [
       "id                            0\n",
       "surname                       0\n",
       "firstname                     0\n",
       "middlename                    0\n",
       "gender                        0\n",
       "gender_male                   0\n",
       "gender_female                 0\n",
       "state                         0\n",
       "Region                        0\n",
       "settlement                    0\n",
       "rural_settlement              0\n",
       "urban_settlement              0\n",
       "report_date                   0\n",
       "report_year                   0\n",
       "age                           0\n",
       "age_str                       0\n",
       "date_of_birth                 0\n",
       "child_group                   0\n",
       "adult_group                   0\n",
       "disease                       0\n",
       "cholera                       0\n",
       "diarrhoea                     0\n",
       "measles                       0\n",
       "viral_haemmorrhaphic_fever    0\n",
       "meningitis                    0\n",
       "ebola                         0\n",
       "marburg_virus                 0\n",
       "yellow_fever                  0\n",
       "rubella_mars                  0\n",
       "malaria                       0\n",
       "serotype                      0\n",
       "NmA                           0\n",
       "NmC                           0\n",
       "NmW                           0\n",
       "health_status                 0\n",
       "alive                         0\n",
       "dead                          0\n",
       "report_outcome                0\n",
       "unconfirmed                   0\n",
       "confirmed                     0\n",
       "null_serotype                 0\n",
       "dtype: int64"
      ]
     },
     "execution_count": 7,
     "metadata": {},
     "output_type": "execute_result"
    }
   ],
   "source": [
    "# To check for missing data\n",
    "df_malaria.isna().sum()"
   ]
  },
  {
   "cell_type": "code",
   "execution_count": 8,
   "id": "6671286f",
   "metadata": {},
   "outputs": [
    {
     "data": {
      "text/html": [
       "<div>\n",
       "<style scoped>\n",
       "    .dataframe tbody tr th:only-of-type {\n",
       "        vertical-align: middle;\n",
       "    }\n",
       "\n",
       "    .dataframe tbody tr th {\n",
       "        vertical-align: top;\n",
       "    }\n",
       "\n",
       "    .dataframe thead th {\n",
       "        text-align: right;\n",
       "    }\n",
       "</style>\n",
       "<table border=\"1\" class=\"dataframe\">\n",
       "  <thead>\n",
       "    <tr style=\"text-align: right;\">\n",
       "      <th></th>\n",
       "      <th>id</th>\n",
       "      <th>gender_male</th>\n",
       "      <th>gender_female</th>\n",
       "      <th>rural_settlement</th>\n",
       "      <th>urban_settlement</th>\n",
       "      <th>report_year</th>\n",
       "      <th>age</th>\n",
       "      <th>child_group</th>\n",
       "      <th>adult_group</th>\n",
       "      <th>cholera</th>\n",
       "      <th>...</th>\n",
       "      <th>rubella_mars</th>\n",
       "      <th>malaria</th>\n",
       "      <th>NmA</th>\n",
       "      <th>NmC</th>\n",
       "      <th>NmW</th>\n",
       "      <th>alive</th>\n",
       "      <th>dead</th>\n",
       "      <th>unconfirmed</th>\n",
       "      <th>confirmed</th>\n",
       "      <th>null_serotype</th>\n",
       "    </tr>\n",
       "  </thead>\n",
       "  <tbody>\n",
       "    <tr>\n",
       "      <th>count</th>\n",
       "      <td>284484.000000</td>\n",
       "      <td>284484.000000</td>\n",
       "      <td>284484.000000</td>\n",
       "      <td>284484.000000</td>\n",
       "      <td>284484.000000</td>\n",
       "      <td>284484.000000</td>\n",
       "      <td>284484.000000</td>\n",
       "      <td>284484.000000</td>\n",
       "      <td>284484.000000</td>\n",
       "      <td>284484.000000</td>\n",
       "      <td>...</td>\n",
       "      <td>284484.000000</td>\n",
       "      <td>284484.000000</td>\n",
       "      <td>284484.000000</td>\n",
       "      <td>284484.000000</td>\n",
       "      <td>284484.000000</td>\n",
       "      <td>284484.000000</td>\n",
       "      <td>284484.000000</td>\n",
       "      <td>284484.000000</td>\n",
       "      <td>284484.000000</td>\n",
       "      <td>284484.000000</td>\n",
       "    </tr>\n",
       "    <tr>\n",
       "      <th>mean</th>\n",
       "      <td>144727.037932</td>\n",
       "      <td>0.482319</td>\n",
       "      <td>0.517681</td>\n",
       "      <td>0.501128</td>\n",
       "      <td>0.498872</td>\n",
       "      <td>2013.503097</td>\n",
       "      <td>34.732396</td>\n",
       "      <td>0.291707</td>\n",
       "      <td>0.708293</td>\n",
       "      <td>0.100494</td>\n",
       "      <td>...</td>\n",
       "      <td>0.100318</td>\n",
       "      <td>0.100304</td>\n",
       "      <td>0.024740</td>\n",
       "      <td>0.025063</td>\n",
       "      <td>0.950194</td>\n",
       "      <td>0.499835</td>\n",
       "      <td>0.500165</td>\n",
       "      <td>0.749691</td>\n",
       "      <td>0.250309</td>\n",
       "      <td>0.900304</td>\n",
       "    </tr>\n",
       "    <tr>\n",
       "      <th>std</th>\n",
       "      <td>83406.850454</td>\n",
       "      <td>0.499688</td>\n",
       "      <td>0.499688</td>\n",
       "      <td>0.500000</td>\n",
       "      <td>0.500000</td>\n",
       "      <td>2.871560</td>\n",
       "      <td>22.240912</td>\n",
       "      <td>0.454549</td>\n",
       "      <td>0.454549</td>\n",
       "      <td>0.300658</td>\n",
       "      <td>...</td>\n",
       "      <td>0.300425</td>\n",
       "      <td>0.300406</td>\n",
       "      <td>0.155331</td>\n",
       "      <td>0.156317</td>\n",
       "      <td>0.217544</td>\n",
       "      <td>0.500001</td>\n",
       "      <td>0.500001</td>\n",
       "      <td>0.433192</td>\n",
       "      <td>0.433192</td>\n",
       "      <td>0.299595</td>\n",
       "    </tr>\n",
       "    <tr>\n",
       "      <th>min</th>\n",
       "      <td>1.000000</td>\n",
       "      <td>0.000000</td>\n",
       "      <td>0.000000</td>\n",
       "      <td>0.000000</td>\n",
       "      <td>0.000000</td>\n",
       "      <td>2009.000000</td>\n",
       "      <td>0.000000</td>\n",
       "      <td>0.000000</td>\n",
       "      <td>0.000000</td>\n",
       "      <td>0.000000</td>\n",
       "      <td>...</td>\n",
       "      <td>0.000000</td>\n",
       "      <td>0.000000</td>\n",
       "      <td>0.000000</td>\n",
       "      <td>0.000000</td>\n",
       "      <td>0.000000</td>\n",
       "      <td>0.000000</td>\n",
       "      <td>0.000000</td>\n",
       "      <td>0.000000</td>\n",
       "      <td>0.000000</td>\n",
       "      <td>0.000000</td>\n",
       "    </tr>\n",
       "    <tr>\n",
       "      <th>25%</th>\n",
       "      <td>72441.750000</td>\n",
       "      <td>0.000000</td>\n",
       "      <td>0.000000</td>\n",
       "      <td>0.000000</td>\n",
       "      <td>0.000000</td>\n",
       "      <td>2011.000000</td>\n",
       "      <td>14.000000</td>\n",
       "      <td>0.000000</td>\n",
       "      <td>0.000000</td>\n",
       "      <td>0.000000</td>\n",
       "      <td>...</td>\n",
       "      <td>0.000000</td>\n",
       "      <td>0.000000</td>\n",
       "      <td>0.000000</td>\n",
       "      <td>0.000000</td>\n",
       "      <td>1.000000</td>\n",
       "      <td>0.000000</td>\n",
       "      <td>0.000000</td>\n",
       "      <td>0.000000</td>\n",
       "      <td>0.000000</td>\n",
       "      <td>1.000000</td>\n",
       "    </tr>\n",
       "    <tr>\n",
       "      <th>50%</th>\n",
       "      <td>144916.500000</td>\n",
       "      <td>0.000000</td>\n",
       "      <td>1.000000</td>\n",
       "      <td>1.000000</td>\n",
       "      <td>0.000000</td>\n",
       "      <td>2013.000000</td>\n",
       "      <td>34.000000</td>\n",
       "      <td>0.000000</td>\n",
       "      <td>1.000000</td>\n",
       "      <td>0.000000</td>\n",
       "      <td>...</td>\n",
       "      <td>0.000000</td>\n",
       "      <td>0.000000</td>\n",
       "      <td>0.000000</td>\n",
       "      <td>0.000000</td>\n",
       "      <td>1.000000</td>\n",
       "      <td>0.000000</td>\n",
       "      <td>1.000000</td>\n",
       "      <td>1.000000</td>\n",
       "      <td>0.000000</td>\n",
       "      <td>1.000000</td>\n",
       "    </tr>\n",
       "    <tr>\n",
       "      <th>75%</th>\n",
       "      <td>217301.250000</td>\n",
       "      <td>1.000000</td>\n",
       "      <td>1.000000</td>\n",
       "      <td>1.000000</td>\n",
       "      <td>1.000000</td>\n",
       "      <td>2016.000000</td>\n",
       "      <td>54.000000</td>\n",
       "      <td>1.000000</td>\n",
       "      <td>1.000000</td>\n",
       "      <td>0.000000</td>\n",
       "      <td>...</td>\n",
       "      <td>0.000000</td>\n",
       "      <td>0.000000</td>\n",
       "      <td>0.000000</td>\n",
       "      <td>0.000000</td>\n",
       "      <td>1.000000</td>\n",
       "      <td>1.000000</td>\n",
       "      <td>1.000000</td>\n",
       "      <td>1.000000</td>\n",
       "      <td>1.000000</td>\n",
       "      <td>1.000000</td>\n",
       "    </tr>\n",
       "    <tr>\n",
       "      <th>max</th>\n",
       "      <td>288422.000000</td>\n",
       "      <td>1.000000</td>\n",
       "      <td>1.000000</td>\n",
       "      <td>1.000000</td>\n",
       "      <td>1.000000</td>\n",
       "      <td>2018.000000</td>\n",
       "      <td>78.000000</td>\n",
       "      <td>1.000000</td>\n",
       "      <td>1.000000</td>\n",
       "      <td>1.000000</td>\n",
       "      <td>...</td>\n",
       "      <td>1.000000</td>\n",
       "      <td>1.000000</td>\n",
       "      <td>1.000000</td>\n",
       "      <td>1.000000</td>\n",
       "      <td>1.000000</td>\n",
       "      <td>1.000000</td>\n",
       "      <td>1.000000</td>\n",
       "      <td>1.000000</td>\n",
       "      <td>1.000000</td>\n",
       "      <td>1.000000</td>\n",
       "    </tr>\n",
       "  </tbody>\n",
       "</table>\n",
       "<p>8 rows × 27 columns</p>\n",
       "</div>"
      ],
      "text/plain": [
       "                  id    gender_male  gender_female  rural_settlement  \\\n",
       "count  284484.000000  284484.000000  284484.000000     284484.000000   \n",
       "mean   144727.037932       0.482319       0.517681          0.501128   \n",
       "std     83406.850454       0.499688       0.499688          0.500000   \n",
       "min         1.000000       0.000000       0.000000          0.000000   \n",
       "25%     72441.750000       0.000000       0.000000          0.000000   \n",
       "50%    144916.500000       0.000000       1.000000          1.000000   \n",
       "75%    217301.250000       1.000000       1.000000          1.000000   \n",
       "max    288422.000000       1.000000       1.000000          1.000000   \n",
       "\n",
       "       urban_settlement    report_year            age    child_group  \\\n",
       "count     284484.000000  284484.000000  284484.000000  284484.000000   \n",
       "mean           0.498872    2013.503097      34.732396       0.291707   \n",
       "std            0.500000       2.871560      22.240912       0.454549   \n",
       "min            0.000000    2009.000000       0.000000       0.000000   \n",
       "25%            0.000000    2011.000000      14.000000       0.000000   \n",
       "50%            0.000000    2013.000000      34.000000       0.000000   \n",
       "75%            1.000000    2016.000000      54.000000       1.000000   \n",
       "max            1.000000    2018.000000      78.000000       1.000000   \n",
       "\n",
       "         adult_group        cholera  ...   rubella_mars        malaria  \\\n",
       "count  284484.000000  284484.000000  ...  284484.000000  284484.000000   \n",
       "mean        0.708293       0.100494  ...       0.100318       0.100304   \n",
       "std         0.454549       0.300658  ...       0.300425       0.300406   \n",
       "min         0.000000       0.000000  ...       0.000000       0.000000   \n",
       "25%         0.000000       0.000000  ...       0.000000       0.000000   \n",
       "50%         1.000000       0.000000  ...       0.000000       0.000000   \n",
       "75%         1.000000       0.000000  ...       0.000000       0.000000   \n",
       "max         1.000000       1.000000  ...       1.000000       1.000000   \n",
       "\n",
       "                 NmA            NmC            NmW          alive  \\\n",
       "count  284484.000000  284484.000000  284484.000000  284484.000000   \n",
       "mean        0.024740       0.025063       0.950194       0.499835   \n",
       "std         0.155331       0.156317       0.217544       0.500001   \n",
       "min         0.000000       0.000000       0.000000       0.000000   \n",
       "25%         0.000000       0.000000       1.000000       0.000000   \n",
       "50%         0.000000       0.000000       1.000000       0.000000   \n",
       "75%         0.000000       0.000000       1.000000       1.000000   \n",
       "max         1.000000       1.000000       1.000000       1.000000   \n",
       "\n",
       "                dead    unconfirmed      confirmed  null_serotype  \n",
       "count  284484.000000  284484.000000  284484.000000  284484.000000  \n",
       "mean        0.500165       0.749691       0.250309       0.900304  \n",
       "std         0.500001       0.433192       0.433192       0.299595  \n",
       "min         0.000000       0.000000       0.000000       0.000000  \n",
       "25%         0.000000       0.000000       0.000000       1.000000  \n",
       "50%         1.000000       1.000000       0.000000       1.000000  \n",
       "75%         1.000000       1.000000       1.000000       1.000000  \n",
       "max         1.000000       1.000000       1.000000       1.000000  \n",
       "\n",
       "[8 rows x 27 columns]"
      ]
     },
     "execution_count": 8,
     "metadata": {},
     "output_type": "execute_result"
    }
   ],
   "source": [
    "# we use the describe method to set to understand the kind of dataset we are working with\n",
    "\n",
    "df_malaria.describe()"
   ]
  },
  {
   "cell_type": "code",
   "execution_count": 9,
   "id": "116739e2",
   "metadata": {},
   "outputs": [
    {
     "name": "stdout",
     "output_type": "stream",
     "text": [
      "<class 'pandas.core.frame.DataFrame'>\n",
      "RangeIndex: 284484 entries, 0 to 284483\n",
      "Data columns (total 41 columns):\n",
      " #   Column                      Non-Null Count   Dtype \n",
      "---  ------                      --------------   ----- \n",
      " 0   id                          284484 non-null  int64 \n",
      " 1   surname                     284484 non-null  object\n",
      " 2   firstname                   284484 non-null  object\n",
      " 3   middlename                  284484 non-null  object\n",
      " 4   gender                      284484 non-null  object\n",
      " 5   gender_male                 284484 non-null  int64 \n",
      " 6   gender_female               284484 non-null  int64 \n",
      " 7   state                       284484 non-null  object\n",
      " 8   Region                      284484 non-null  object\n",
      " 9   settlement                  284484 non-null  object\n",
      " 10  rural_settlement            284484 non-null  int64 \n",
      " 11  urban_settlement            284484 non-null  int64 \n",
      " 12  report_date                 284484 non-null  object\n",
      " 13  report_year                 284484 non-null  int64 \n",
      " 14  age                         284484 non-null  int64 \n",
      " 15  age_str                     284484 non-null  object\n",
      " 16  date_of_birth               284484 non-null  object\n",
      " 17  child_group                 284484 non-null  int64 \n",
      " 18  adult_group                 284484 non-null  int64 \n",
      " 19  disease                     284484 non-null  object\n",
      " 20  cholera                     284484 non-null  int64 \n",
      " 21  diarrhoea                   284484 non-null  int64 \n",
      " 22  measles                     284484 non-null  int64 \n",
      " 23  viral_haemmorrhaphic_fever  284484 non-null  int64 \n",
      " 24  meningitis                  284484 non-null  int64 \n",
      " 25  ebola                       284484 non-null  int64 \n",
      " 26  marburg_virus               284484 non-null  int64 \n",
      " 27  yellow_fever                284484 non-null  int64 \n",
      " 28  rubella_mars                284484 non-null  int64 \n",
      " 29  malaria                     284484 non-null  int64 \n",
      " 30  serotype                    284484 non-null  object\n",
      " 31  NmA                         284484 non-null  int64 \n",
      " 32  NmC                         284484 non-null  int64 \n",
      " 33  NmW                         284484 non-null  int64 \n",
      " 34  health_status               284484 non-null  object\n",
      " 35  alive                       284484 non-null  int64 \n",
      " 36  dead                        284484 non-null  int64 \n",
      " 37  report_outcome              284484 non-null  object\n",
      " 38  unconfirmed                 284484 non-null  int64 \n",
      " 39  confirmed                   284484 non-null  int64 \n",
      " 40  null_serotype               284484 non-null  int64 \n",
      "dtypes: int64(27), object(14)\n",
      "memory usage: 89.0+ MB\n"
     ]
    }
   ],
   "source": [
    "# the info call method describes the type of dataset (int or obj)\n",
    "df_malaria.info()"
   ]
  },
  {
   "cell_type": "code",
   "execution_count": 10,
   "id": "584a0828",
   "metadata": {},
   "outputs": [
    {
     "data": {
      "text/plain": [
       "Index(['id', 'surname', 'firstname', 'middlename', 'gender', 'gender_male',\n",
       "       'gender_female', 'state', 'Region', 'settlement', 'rural_settlement',\n",
       "       'urban_settlement', 'report_date', 'report_year', 'age', 'age_str',\n",
       "       'date_of_birth', 'child_group', 'adult_group', 'disease', 'cholera',\n",
       "       'diarrhoea', 'measles', 'viral_haemmorrhaphic_fever', 'meningitis',\n",
       "       'ebola', 'marburg_virus', 'yellow_fever', 'rubella_mars', 'malaria',\n",
       "       'serotype', 'NmA', 'NmC', 'NmW', 'health_status', 'alive', 'dead',\n",
       "       'report_outcome', 'unconfirmed', 'confirmed', 'null_serotype'],\n",
       "      dtype='object')"
      ]
     },
     "execution_count": 10,
     "metadata": {},
     "output_type": "execute_result"
    }
   ],
   "source": [
    "# we view the columns from the dataset to drop the columns that are not needed\n",
    "df_malaria.columns"
   ]
  },
  {
   "cell_type": "code",
   "execution_count": 11,
   "id": "4c63df7d",
   "metadata": {},
   "outputs": [
    {
     "data": {
      "text/plain": [
       "0              Solade Grace Solape\n",
       "1              Eneche Kure Balogun\n",
       "2           Sanusi Adaugo Katerine\n",
       "3         Sowore Mooslemat Ifedayo\n",
       "4           Abdusalam Yusuf Okafor\n",
       "                    ...           \n",
       "284479      Mukthar Alimat Ajibewa\n",
       "284480    Akenzua Deborah Rofeeqat\n",
       "284481         Isa Deborah Tofunmi\n",
       "284482          Uba Ismail Akpabio\n",
       "284483           Alao Paulina Sade\n",
       "Name: full_name, Length: 284484, dtype: object"
      ]
     },
     "execution_count": 11,
     "metadata": {},
     "output_type": "execute_result"
    }
   ],
   "source": [
    "# we concatenate to get the full names of the individuals so we can do away with the surname, firstname... columns\n",
    "\n",
    "df_malaria['full_name'] = df_malaria['surname'] +\" \"+ df_malaria['firstname'] +\" \"+ df_malaria['middlename']\n",
    "df_malaria['full_name']"
   ]
  },
  {
   "cell_type": "code",
   "execution_count": 12,
   "id": "87469930",
   "metadata": {},
   "outputs": [],
   "source": [
    "# the columns that are not needed are dropped to ensure the columns are as minimal as possible while maintaining the numbers of rows\n",
    "\n",
    "df_malaria.drop(columns = ['id', 'surname', 'firstname', 'middlename', 'gender_male', 'gender_female', 'rural_settlement', 'urban_settlement',\n",
    "                           'report_date','age_str','date_of_birth', 'disease', 'cholera','diarrhoea', \n",
    "                           'measles', 'viral_haemmorrhaphic_fever', 'meningitis','ebola', 'marburg_virus', 'yellow_fever',\n",
    "                           'rubella_mars','serotype', 'NmA', 'NmC', 'NmW', 'alive', 'dead', 'confirmed', 'unconfirmed',\n",
    "                           'null_serotype'], inplace  = True)"
   ]
  },
  {
   "cell_type": "code",
   "execution_count": 13,
   "id": "598e6ae2",
   "metadata": {},
   "outputs": [
    {
     "data": {
      "text/html": [
       "<div>\n",
       "<style scoped>\n",
       "    .dataframe tbody tr th:only-of-type {\n",
       "        vertical-align: middle;\n",
       "    }\n",
       "\n",
       "    .dataframe tbody tr th {\n",
       "        vertical-align: top;\n",
       "    }\n",
       "\n",
       "    .dataframe thead th {\n",
       "        text-align: right;\n",
       "    }\n",
       "</style>\n",
       "<table border=\"1\" class=\"dataframe\">\n",
       "  <thead>\n",
       "    <tr style=\"text-align: right;\">\n",
       "      <th></th>\n",
       "      <th>gender</th>\n",
       "      <th>state</th>\n",
       "      <th>Region</th>\n",
       "      <th>settlement</th>\n",
       "      <th>report_year</th>\n",
       "      <th>age</th>\n",
       "      <th>child_group</th>\n",
       "      <th>adult_group</th>\n",
       "      <th>malaria</th>\n",
       "      <th>health_status</th>\n",
       "      <th>report_outcome</th>\n",
       "      <th>full_name</th>\n",
       "    </tr>\n",
       "  </thead>\n",
       "  <tbody>\n",
       "    <tr>\n",
       "      <th>0</th>\n",
       "      <td>Female</td>\n",
       "      <td>Rivers</td>\n",
       "      <td>South-South</td>\n",
       "      <td>Rural</td>\n",
       "      <td>2018</td>\n",
       "      <td>32</td>\n",
       "      <td>0</td>\n",
       "      <td>1</td>\n",
       "      <td>0</td>\n",
       "      <td>Alive</td>\n",
       "      <td>confirmed</td>\n",
       "      <td>Solade Grace Solape</td>\n",
       "    </tr>\n",
       "    <tr>\n",
       "      <th>1</th>\n",
       "      <td>Male</td>\n",
       "      <td>Ebonyi</td>\n",
       "      <td>South East</td>\n",
       "      <td>Rural</td>\n",
       "      <td>2017</td>\n",
       "      <td>32</td>\n",
       "      <td>0</td>\n",
       "      <td>1</td>\n",
       "      <td>0</td>\n",
       "      <td>Alive</td>\n",
       "      <td>Confirmed</td>\n",
       "      <td>Eneche Kure Balogun</td>\n",
       "    </tr>\n",
       "    <tr>\n",
       "      <th>2</th>\n",
       "      <td>Female</td>\n",
       "      <td>Ogun</td>\n",
       "      <td>South West</td>\n",
       "      <td>Urban</td>\n",
       "      <td>2012</td>\n",
       "      <td>24</td>\n",
       "      <td>0</td>\n",
       "      <td>1</td>\n",
       "      <td>0</td>\n",
       "      <td>Dead</td>\n",
       "      <td>Not Confirmed</td>\n",
       "      <td>Sanusi Adaugo Katerine</td>\n",
       "    </tr>\n",
       "    <tr>\n",
       "      <th>3</th>\n",
       "      <td>Female</td>\n",
       "      <td>Ondo</td>\n",
       "      <td>South West</td>\n",
       "      <td>Rural</td>\n",
       "      <td>2010</td>\n",
       "      <td>63</td>\n",
       "      <td>0</td>\n",
       "      <td>1</td>\n",
       "      <td>0</td>\n",
       "      <td>Alive</td>\n",
       "      <td>Not Confirmed</td>\n",
       "      <td>Sowore Mooslemat Ifedayo</td>\n",
       "    </tr>\n",
       "    <tr>\n",
       "      <th>4</th>\n",
       "      <td>Male</td>\n",
       "      <td>Oyo</td>\n",
       "      <td>South West</td>\n",
       "      <td>Urban</td>\n",
       "      <td>2017</td>\n",
       "      <td>9</td>\n",
       "      <td>1</td>\n",
       "      <td>0</td>\n",
       "      <td>0</td>\n",
       "      <td>Alive</td>\n",
       "      <td>Confirmed</td>\n",
       "      <td>Abdusalam Yusuf Okafor</td>\n",
       "    </tr>\n",
       "    <tr>\n",
       "      <th>...</th>\n",
       "      <td>...</td>\n",
       "      <td>...</td>\n",
       "      <td>...</td>\n",
       "      <td>...</td>\n",
       "      <td>...</td>\n",
       "      <td>...</td>\n",
       "      <td>...</td>\n",
       "      <td>...</td>\n",
       "      <td>...</td>\n",
       "      <td>...</td>\n",
       "      <td>...</td>\n",
       "      <td>...</td>\n",
       "    </tr>\n",
       "    <tr>\n",
       "      <th>284479</th>\n",
       "      <td>Female</td>\n",
       "      <td>Cross River</td>\n",
       "      <td>South-South</td>\n",
       "      <td>Rural</td>\n",
       "      <td>2012</td>\n",
       "      <td>67</td>\n",
       "      <td>0</td>\n",
       "      <td>1</td>\n",
       "      <td>0</td>\n",
       "      <td>Dead</td>\n",
       "      <td>Confirmed</td>\n",
       "      <td>Mukthar Alimat Ajibewa</td>\n",
       "    </tr>\n",
       "    <tr>\n",
       "      <th>284480</th>\n",
       "      <td>Female</td>\n",
       "      <td>Kwara</td>\n",
       "      <td>North Central</td>\n",
       "      <td>Urban</td>\n",
       "      <td>2009</td>\n",
       "      <td>64</td>\n",
       "      <td>0</td>\n",
       "      <td>1</td>\n",
       "      <td>0</td>\n",
       "      <td>Dead</td>\n",
       "      <td>Confirmed</td>\n",
       "      <td>Akenzua Deborah Rofeeqat</td>\n",
       "    </tr>\n",
       "    <tr>\n",
       "      <th>284481</th>\n",
       "      <td>Female</td>\n",
       "      <td>Katsina</td>\n",
       "      <td>North West</td>\n",
       "      <td>Rural</td>\n",
       "      <td>2010</td>\n",
       "      <td>33</td>\n",
       "      <td>0</td>\n",
       "      <td>1</td>\n",
       "      <td>1</td>\n",
       "      <td>Alive</td>\n",
       "      <td>Confirmed</td>\n",
       "      <td>Isa Deborah Tofunmi</td>\n",
       "    </tr>\n",
       "    <tr>\n",
       "      <th>284482</th>\n",
       "      <td>Male</td>\n",
       "      <td>Jigawa</td>\n",
       "      <td>North West</td>\n",
       "      <td>Rural</td>\n",
       "      <td>2016</td>\n",
       "      <td>18</td>\n",
       "      <td>0</td>\n",
       "      <td>1</td>\n",
       "      <td>1</td>\n",
       "      <td>Dead</td>\n",
       "      <td>Not Confirmed</td>\n",
       "      <td>Uba Ismail Akpabio</td>\n",
       "    </tr>\n",
       "    <tr>\n",
       "      <th>284483</th>\n",
       "      <td>Female</td>\n",
       "      <td>Kogi</td>\n",
       "      <td>North Central</td>\n",
       "      <td>Urban</td>\n",
       "      <td>2013</td>\n",
       "      <td>7</td>\n",
       "      <td>1</td>\n",
       "      <td>0</td>\n",
       "      <td>0</td>\n",
       "      <td>Alive</td>\n",
       "      <td>Confirmed</td>\n",
       "      <td>Alao Paulina Sade</td>\n",
       "    </tr>\n",
       "  </tbody>\n",
       "</table>\n",
       "<p>284484 rows × 12 columns</p>\n",
       "</div>"
      ],
      "text/plain": [
       "        gender        state         Region settlement  report_year  age  \\\n",
       "0       Female       Rivers    South-South      Rural         2018   32   \n",
       "1         Male       Ebonyi     South East      Rural         2017   32   \n",
       "2       Female         Ogun     South West      Urban         2012   24   \n",
       "3       Female         Ondo     South West      Rural         2010   63   \n",
       "4         Male          Oyo     South West      Urban         2017    9   \n",
       "...        ...          ...            ...        ...          ...  ...   \n",
       "284479  Female  Cross River    South-South      Rural         2012   67   \n",
       "284480  Female        Kwara  North Central      Urban         2009   64   \n",
       "284481  Female      Katsina     North West      Rural         2010   33   \n",
       "284482    Male       Jigawa     North West      Rural         2016   18   \n",
       "284483  Female         Kogi  North Central      Urban         2013    7   \n",
       "\n",
       "        child_group  adult_group  malaria health_status report_outcome  \\\n",
       "0                 0            1        0         Alive      confirmed   \n",
       "1                 0            1        0         Alive      Confirmed   \n",
       "2                 0            1        0          Dead  Not Confirmed   \n",
       "3                 0            1        0         Alive  Not Confirmed   \n",
       "4                 1            0        0         Alive      Confirmed   \n",
       "...             ...          ...      ...           ...            ...   \n",
       "284479            0            1        0          Dead      Confirmed   \n",
       "284480            0            1        0          Dead      Confirmed   \n",
       "284481            0            1        1         Alive      Confirmed   \n",
       "284482            0            1        1          Dead  Not Confirmed   \n",
       "284483            1            0        0         Alive      Confirmed   \n",
       "\n",
       "                       full_name  \n",
       "0            Solade Grace Solape  \n",
       "1            Eneche Kure Balogun  \n",
       "2         Sanusi Adaugo Katerine  \n",
       "3       Sowore Mooslemat Ifedayo  \n",
       "4         Abdusalam Yusuf Okafor  \n",
       "...                          ...  \n",
       "284479    Mukthar Alimat Ajibewa  \n",
       "284480  Akenzua Deborah Rofeeqat  \n",
       "284481       Isa Deborah Tofunmi  \n",
       "284482        Uba Ismail Akpabio  \n",
       "284483         Alao Paulina Sade  \n",
       "\n",
       "[284484 rows x 12 columns]"
      ]
     },
     "execution_count": 13,
     "metadata": {},
     "output_type": "execute_result"
    }
   ],
   "source": [
    "# Testing the data set after dropping some columns.\n",
    "# The columns dropped from 40 to 12.\n",
    "df_malaria"
   ]
  },
  {
   "cell_type": "code",
   "execution_count": 14,
   "id": "01de0e65",
   "metadata": {},
   "outputs": [
    {
     "data": {
      "text/html": [
       "<div>\n",
       "<style scoped>\n",
       "    .dataframe tbody tr th:only-of-type {\n",
       "        vertical-align: middle;\n",
       "    }\n",
       "\n",
       "    .dataframe tbody tr th {\n",
       "        vertical-align: top;\n",
       "    }\n",
       "\n",
       "    .dataframe thead th {\n",
       "        text-align: right;\n",
       "    }\n",
       "</style>\n",
       "<table border=\"1\" class=\"dataframe\">\n",
       "  <thead>\n",
       "    <tr style=\"text-align: right;\">\n",
       "      <th></th>\n",
       "      <th>gender</th>\n",
       "      <th>state</th>\n",
       "      <th>Region</th>\n",
       "      <th>settlement</th>\n",
       "      <th>report_year</th>\n",
       "      <th>age</th>\n",
       "      <th>child_group</th>\n",
       "      <th>adult_group</th>\n",
       "      <th>malaria</th>\n",
       "      <th>health_status</th>\n",
       "      <th>report_outcome</th>\n",
       "      <th>full_name</th>\n",
       "    </tr>\n",
       "  </thead>\n",
       "  <tbody>\n",
       "    <tr>\n",
       "      <th>19</th>\n",
       "      <td>Female</td>\n",
       "      <td>Adamawa</td>\n",
       "      <td>North East</td>\n",
       "      <td>Rural</td>\n",
       "      <td>2017</td>\n",
       "      <td>39</td>\n",
       "      <td>0</td>\n",
       "      <td>1</td>\n",
       "      <td>1</td>\n",
       "      <td>Alive</td>\n",
       "      <td>Not Confirmed</td>\n",
       "      <td>Buhari Janet Orieskwe</td>\n",
       "    </tr>\n",
       "    <tr>\n",
       "      <th>21</th>\n",
       "      <td>Female</td>\n",
       "      <td>Rivers</td>\n",
       "      <td>South-South</td>\n",
       "      <td>Urban</td>\n",
       "      <td>2011</td>\n",
       "      <td>14</td>\n",
       "      <td>1</td>\n",
       "      <td>0</td>\n",
       "      <td>1</td>\n",
       "      <td>Alive</td>\n",
       "      <td>Confirmed</td>\n",
       "      <td>Eleojo Adaugo Aderemi</td>\n",
       "    </tr>\n",
       "    <tr>\n",
       "      <th>37</th>\n",
       "      <td>Female</td>\n",
       "      <td>Kaduna</td>\n",
       "      <td>North West</td>\n",
       "      <td>Rural</td>\n",
       "      <td>2010</td>\n",
       "      <td>66</td>\n",
       "      <td>0</td>\n",
       "      <td>1</td>\n",
       "      <td>1</td>\n",
       "      <td>Dead</td>\n",
       "      <td>Confirmed</td>\n",
       "      <td>Aterigbade Debby Chika</td>\n",
       "    </tr>\n",
       "    <tr>\n",
       "      <th>38</th>\n",
       "      <td>Male</td>\n",
       "      <td>Jigawa</td>\n",
       "      <td>North West</td>\n",
       "      <td>Urban</td>\n",
       "      <td>2017</td>\n",
       "      <td>8</td>\n",
       "      <td>1</td>\n",
       "      <td>0</td>\n",
       "      <td>1</td>\n",
       "      <td>Alive</td>\n",
       "      <td>Not Confirmed</td>\n",
       "      <td>Ahuta Mooslem Adeyemi</td>\n",
       "    </tr>\n",
       "    <tr>\n",
       "      <th>40</th>\n",
       "      <td>Female</td>\n",
       "      <td>Oyo</td>\n",
       "      <td>South West</td>\n",
       "      <td>Urban</td>\n",
       "      <td>2011</td>\n",
       "      <td>17</td>\n",
       "      <td>1</td>\n",
       "      <td>0</td>\n",
       "      <td>1</td>\n",
       "      <td>Alive</td>\n",
       "      <td>Confirmed</td>\n",
       "      <td>Quayum Alexandria Beatrice</td>\n",
       "    </tr>\n",
       "    <tr>\n",
       "      <th>...</th>\n",
       "      <td>...</td>\n",
       "      <td>...</td>\n",
       "      <td>...</td>\n",
       "      <td>...</td>\n",
       "      <td>...</td>\n",
       "      <td>...</td>\n",
       "      <td>...</td>\n",
       "      <td>...</td>\n",
       "      <td>...</td>\n",
       "      <td>...</td>\n",
       "      <td>...</td>\n",
       "      <td>...</td>\n",
       "    </tr>\n",
       "    <tr>\n",
       "      <th>284425</th>\n",
       "      <td>Male</td>\n",
       "      <td>Enugu</td>\n",
       "      <td>South East</td>\n",
       "      <td>Rural</td>\n",
       "      <td>2017</td>\n",
       "      <td>15</td>\n",
       "      <td>1</td>\n",
       "      <td>0</td>\n",
       "      <td>1</td>\n",
       "      <td>Alive</td>\n",
       "      <td>Not Confirmed</td>\n",
       "      <td>Micheal Bala Chidebere</td>\n",
       "    </tr>\n",
       "    <tr>\n",
       "      <th>284431</th>\n",
       "      <td>Male</td>\n",
       "      <td>Benue</td>\n",
       "      <td>North Central</td>\n",
       "      <td>Urban</td>\n",
       "      <td>2018</td>\n",
       "      <td>48</td>\n",
       "      <td>0</td>\n",
       "      <td>1</td>\n",
       "      <td>1</td>\n",
       "      <td>Dead</td>\n",
       "      <td>Confirmed</td>\n",
       "      <td>Ojeleye Ismail Adegboyega</td>\n",
       "    </tr>\n",
       "    <tr>\n",
       "      <th>284443</th>\n",
       "      <td>Male</td>\n",
       "      <td>Kano</td>\n",
       "      <td>North West</td>\n",
       "      <td>Rural</td>\n",
       "      <td>2015</td>\n",
       "      <td>71</td>\n",
       "      <td>0</td>\n",
       "      <td>1</td>\n",
       "      <td>1</td>\n",
       "      <td>Alive</td>\n",
       "      <td>Confirmed</td>\n",
       "      <td>Osareme Danjuma Okafor</td>\n",
       "    </tr>\n",
       "    <tr>\n",
       "      <th>284481</th>\n",
       "      <td>Female</td>\n",
       "      <td>Katsina</td>\n",
       "      <td>North West</td>\n",
       "      <td>Rural</td>\n",
       "      <td>2010</td>\n",
       "      <td>33</td>\n",
       "      <td>0</td>\n",
       "      <td>1</td>\n",
       "      <td>1</td>\n",
       "      <td>Alive</td>\n",
       "      <td>Confirmed</td>\n",
       "      <td>Isa Deborah Tofunmi</td>\n",
       "    </tr>\n",
       "    <tr>\n",
       "      <th>284482</th>\n",
       "      <td>Male</td>\n",
       "      <td>Jigawa</td>\n",
       "      <td>North West</td>\n",
       "      <td>Rural</td>\n",
       "      <td>2016</td>\n",
       "      <td>18</td>\n",
       "      <td>0</td>\n",
       "      <td>1</td>\n",
       "      <td>1</td>\n",
       "      <td>Dead</td>\n",
       "      <td>Not Confirmed</td>\n",
       "      <td>Uba Ismail Akpabio</td>\n",
       "    </tr>\n",
       "  </tbody>\n",
       "</table>\n",
       "<p>28535 rows × 12 columns</p>\n",
       "</div>"
      ],
      "text/plain": [
       "        gender    state         Region settlement  report_year  age  \\\n",
       "19      Female  Adamawa     North East      Rural         2017   39   \n",
       "21      Female   Rivers    South-South      Urban         2011   14   \n",
       "37      Female   Kaduna     North West      Rural         2010   66   \n",
       "38        Male   Jigawa     North West      Urban         2017    8   \n",
       "40      Female      Oyo     South West      Urban         2011   17   \n",
       "...        ...      ...            ...        ...          ...  ...   \n",
       "284425    Male    Enugu     South East      Rural         2017   15   \n",
       "284431    Male    Benue  North Central      Urban         2018   48   \n",
       "284443    Male     Kano     North West      Rural         2015   71   \n",
       "284481  Female  Katsina     North West      Rural         2010   33   \n",
       "284482    Male   Jigawa     North West      Rural         2016   18   \n",
       "\n",
       "        child_group  adult_group  malaria health_status report_outcome  \\\n",
       "19                0            1        1         Alive  Not Confirmed   \n",
       "21                1            0        1         Alive      Confirmed   \n",
       "37                0            1        1          Dead      Confirmed   \n",
       "38                1            0        1         Alive  Not Confirmed   \n",
       "40                1            0        1         Alive      Confirmed   \n",
       "...             ...          ...      ...           ...            ...   \n",
       "284425            1            0        1         Alive  Not Confirmed   \n",
       "284431            0            1        1          Dead      Confirmed   \n",
       "284443            0            1        1         Alive      Confirmed   \n",
       "284481            0            1        1         Alive      Confirmed   \n",
       "284482            0            1        1          Dead  Not Confirmed   \n",
       "\n",
       "                         full_name  \n",
       "19           Buhari Janet Orieskwe  \n",
       "21           Eleojo Adaugo Aderemi  \n",
       "37          Aterigbade Debby Chika  \n",
       "38           Ahuta Mooslem Adeyemi  \n",
       "40      Quayum Alexandria Beatrice  \n",
       "...                            ...  \n",
       "284425      Micheal Bala Chidebere  \n",
       "284431   Ojeleye Ismail Adegboyega  \n",
       "284443      Osareme Danjuma Okafor  \n",
       "284481         Isa Deborah Tofunmi  \n",
       "284482          Uba Ismail Akpabio  \n",
       "\n",
       "[28535 rows x 12 columns]"
      ]
     },
     "execution_count": 14,
     "metadata": {},
     "output_type": "execute_result"
    }
   ],
   "source": [
    "# Restricting our data set to malaria reduced the number or rows from 284,484 to 28,535.\n",
    "# This is about 10% reduction\n",
    "df_malaria = df_malaria[df_malaria['malaria'] > 0]\n",
    "df_malaria"
   ]
  },
  {
   "cell_type": "code",
   "execution_count": 15,
   "id": "94a8a5e2",
   "metadata": {},
   "outputs": [
    {
     "data": {
      "text/plain": [
       "report_year\n",
       "2009    2884\n",
       "2010    2905\n",
       "2011    2740\n",
       "2012    2747\n",
       "2013    2890\n",
       "2014    2853\n",
       "2015    2810\n",
       "2016    2903\n",
       "2017    2900\n",
       "2018    2903\n",
       "Name: report_year, dtype: int64"
      ]
     },
     "execution_count": 15,
     "metadata": {},
     "output_type": "execute_result"
    }
   ],
   "source": [
    "# Analizing the reporting year vs number of people infected with malaria\n",
    "df_malaria.groupby('report_year')['report_year'].count()"
   ]
  },
  {
   "cell_type": "code",
   "execution_count": 55,
   "id": "60659d96",
   "metadata": {},
   "outputs": [
    {
     "data": {
      "text/plain": [
       "<AxesSubplot:xlabel='report_year'>"
      ]
     },
     "metadata": {},
     "output_type": "display_data"
    },
    {
     "data": {
      "text/plain": [
       "(array([2725., 2750., 2775., 2800., 2825., 2850., 2875., 2900., 2925.]),\n",
       " [Text(0, 0, ''),\n",
       "  Text(0, 0, ''),\n",
       "  Text(0, 0, ''),\n",
       "  Text(0, 0, ''),\n",
       "  Text(0, 0, ''),\n",
       "  Text(0, 0, ''),\n",
       "  Text(0, 0, ''),\n",
       "  Text(0, 0, ''),\n",
       "  Text(0, 0, '')])"
      ]
     },
     "execution_count": 55,
     "metadata": {},
     "output_type": "execute_result"
    },
    {
     "data": {
      "image/png": "[encoded data removed]",
      "text/plain": [
       "<Figure size 720x360 with 1 Axes>"
      ]
     },
     "metadata": {
      "needs_background": "light"
     },
     "output_type": "display_data"
    }
   ],
   "source": [
    "plt.rcParams['figure.figsize'] = [10, 5]\n",
    "display(df_malaria.groupby('report_year')['malaria'].sum().astype(int).plot.line(color ='purple'))\n",
    "\n",
    "plt.xticks(rotation = 0, fontweight = 'bold', fontsize =10)\n",
    "plt.title('MALARIA PREVALENCE PER REPORT YEAR', fontsize = 10, fontweight = 'bold')\n",
    "plt.ylabel('')\n",
    "plt.yticks(fontweight = 'bold',fontsize =10)"
   ]
  },
  {
   "cell_type": "code",
   "execution_count": 16,
   "id": "d40bb7a3",
   "metadata": {},
   "outputs": [
    {
     "name": "stdout",
     "output_type": "stream",
     "text": [
      "<class 'pandas.core.frame.DataFrame'>\n",
      "Int64Index: 28535 entries, 19 to 284482\n",
      "Data columns (total 12 columns):\n",
      " #   Column          Non-Null Count  Dtype \n",
      "---  ------          --------------  ----- \n",
      " 0   gender          28535 non-null  object\n",
      " 1   state           28535 non-null  object\n",
      " 2   Region          28535 non-null  object\n",
      " 3   settlement      28535 non-null  object\n",
      " 4   report_year     28535 non-null  int64 \n",
      " 5   age             28535 non-null  int64 \n",
      " 6   child_group     28535 non-null  int64 \n",
      " 7   adult_group     28535 non-null  int64 \n",
      " 8   malaria         28535 non-null  int64 \n",
      " 9   health_status   28535 non-null  object\n",
      " 10  report_outcome  28535 non-null  object\n",
      " 11  full_name       28535 non-null  object\n",
      "dtypes: int64(5), object(7)\n",
      "memory usage: 2.8+ MB\n"
     ]
    }
   ],
   "source": [
    "# General information about the dataset\n",
    "df_malaria.info()"
   ]
  },
  {
   "cell_type": "code",
   "execution_count": 17,
   "id": "1dfccc66",
   "metadata": {},
   "outputs": [
    {
     "name": "stdout",
     "output_type": "stream",
     "text": [
      "['Adamawa' 'Rivers' 'Kaduna' 'Jigawa' 'Oyo' 'Imo' 'Lagos' 'Edo' 'Yobe'\n",
      " 'Ondo' 'Katsina' 'Sokoto' 'Ekiti' 'Gombe' 'Osun' 'Anambra' 'Akwa Ibom'\n",
      " 'Ebonyi' 'Benue' 'Kwara' 'Plateau' 'Kogi' 'Delta' 'Ogun' 'Kebbi'\n",
      " 'Nasarawa' 'Taraba' 'Cross River' 'Bayelsa' 'Borno' 'Niger' 'Zamfara'\n",
      " 'Enugu' 'Federal Capital Territory' 'Abia' 'Kano' 'Bauchi']\n"
     ]
    }
   ],
   "source": [
    "# Sorting into states\n",
    "print(df_malaria['state'].unique())"
   ]
  },
  {
   "cell_type": "code",
   "execution_count": 18,
   "id": "ce81810a",
   "metadata": {},
   "outputs": [
    {
     "data": {
      "text/plain": [
       "Kano                         833\n",
       "Kwara                        833\n",
       "Ebonyi                       831\n",
       "Federal Capital Territory    805\n",
       "Edo                          805\n",
       "Akwa Ibom                    801\n",
       "Jigawa                       801\n",
       "Abia                         798\n",
       "Kebbi                        797\n",
       "Taraba                       786\n",
       "Sokoto                       783\n",
       "Bayelsa                      783\n",
       "Ogun                         780\n",
       "Katsina                      778\n",
       "Kogi                         778\n",
       "Adamawa                      778\n",
       "Delta                        773\n",
       "Benue                        771\n",
       "Osun                         770\n",
       "Ondo                         769\n",
       "Niger                        769\n",
       "Cross River                  768\n",
       "Lagos                        767\n",
       "Yobe                         767\n",
       "Rivers                       759\n",
       "Oyo                          758\n",
       "Ekiti                        755\n",
       "Anambra                      753\n",
       "Zamfara                      753\n",
       "Kaduna                       751\n",
       "Bauchi                       746\n",
       "Enugu                        742\n",
       "Nasarawa                     730\n",
       "Gombe                        721\n",
       "Imo                          721\n",
       "Borno                        713\n",
       "Plateau                      709\n",
       "Name: state, dtype: int64"
      ]
     },
     "execution_count": 18,
     "metadata": {},
     "output_type": "execute_result"
    }
   ],
   "source": [
    "# Getting the number of reported malaria cases acording to states.\n",
    "# From this we can confirm that Kano and Kwara had the highest number of malaria cases reported while \n",
    "# Plateau had the lowest number of malaria cases reported.\n",
    "df_malaria['state'].value_counts()"
   ]
  },
  {
   "cell_type": "code",
   "execution_count": 19,
   "id": "6ca9d334",
   "metadata": {},
   "outputs": [
    {
     "data": {
      "text/plain": [
       "Female    14630\n",
       "Male      13905\n",
       "Name: gender, dtype: int64"
      ]
     },
     "execution_count": 19,
     "metadata": {},
     "output_type": "execute_result"
    }
   ],
   "source": [
    "# Gender distribution in terms of malaria cases.\n",
    "# female were more prone to malaria attack that male.\n",
    "df_malaria['gender'].value_counts()"
   ]
  },
  {
   "cell_type": "code",
   "execution_count": 20,
   "id": "eace35fc",
   "metadata": {},
   "outputs": [
    {
     "data": {
      "text/plain": [
       "Urban    14331\n",
       "Rural    14204\n",
       "Name: settlement, dtype: int64"
      ]
     },
     "execution_count": 20,
     "metadata": {},
     "output_type": "execute_result"
    }
   ],
   "source": [
    "# Sorted the malaria cases reported according to settlement.\n",
    "# The people who live in the urban area are more vulnerable to malaria attack.\n",
    "df_malaria['settlement'].value_counts()"
   ]
  },
  {
   "cell_type": "code",
   "execution_count": 21,
   "id": "a464383a",
   "metadata": {},
   "outputs": [
    {
     "data": {
      "text/plain": [
       "Alive    14365\n",
       "Dead     14170\n",
       "Name: health_status, dtype: int64"
      ]
     },
     "execution_count": 21,
     "metadata": {},
     "output_type": "execute_result"
    }
   ],
   "source": [
    "# Examining the fatality rating of the disease.\n",
    "df_malaria['health_status'].value_counts()"
   ]
  },
  {
   "cell_type": "code",
   "execution_count": 22,
   "id": "fbf55e5b",
   "metadata": {},
   "outputs": [
    {
     "data": {
      "text/plain": [
       "settlement  health_status  gender\n",
       "Rural       Alive          Female    3653\n",
       "                           Male      3453\n",
       "            Dead           Female    3611\n",
       "                           Male      3487\n",
       "Urban       Alive          Female    3749\n",
       "                           Male      3510\n",
       "            Dead           Female    3617\n",
       "                           Male      3455\n",
       "Name: health_status, dtype: int64"
      ]
     },
     "execution_count": 22,
     "metadata": {},
     "output_type": "execute_result"
    }
   ],
   "source": [
    "# Determining the number of death/survival in bot settlements and gender.\n",
    "# Irrespective of the settlement the female gender suffered most fatality.\n",
    "df_malaria.groupby(['settlement','health_status','gender'])['health_status'].count()"
   ]
  },
  {
   "cell_type": "code",
   "execution_count": 23,
   "id": "deb3c6a7",
   "metadata": {},
   "outputs": [
    {
     "data": {
      "text/plain": [
       "<seaborn.axisgrid.JointGrid at 0x2b28d21b8b0>"
      ]
     },
     "execution_count": 23,
     "metadata": {},
     "output_type": "execute_result"
    },
    {
     "data": {
      "image/png": "[encoded data removed]",
      "text/plain": [
       "<Figure size 432x432 with 3 Axes>"
      ]
     },
     "metadata": {
      "needs_background": "light"
     },
     "output_type": "display_data"
    }
   ],
   "source": [
    "# Ploted the age versus reported year.\n",
    "# As the year increases the resistance to malaria decreases.\n",
    "sns.jointplot( y = 'age', x= 'report_year', data = df_malaria)"
   ]
  },
  {
   "cell_type": "code",
   "execution_count": 24,
   "id": "2193d392",
   "metadata": {},
   "outputs": [
    {
     "data": {
      "text/plain": [
       "<seaborn.axisgrid.FacetGrid at 0x2b28dff44c0>"
      ]
     },
     "execution_count": 24,
     "metadata": {},
     "output_type": "execute_result"
    },
    {
     "data": {
      "image/png": "[encoded data removed]",
      "text/plain": [
       "<Figure size 360x360 with 1 Axes>"
      ]
     },
     "metadata": {
      "needs_background": "light"
     },
     "output_type": "display_data"
    }
   ],
   "source": [
    "# Plotted agegroup versus reported cases of malaria.\n",
    "# The age group 0-10 years are mostly affected by malaria.\n",
    "sns.displot(df_malaria['age'], kde = True, bins = 10)"
   ]
  },
  {
   "cell_type": "code",
   "execution_count": 25,
   "id": "3db7baa3",
   "metadata": {},
   "outputs": [
    {
     "data": {
      "text/plain": [
       "<AxesSubplot:xlabel='state'>"
      ]
     },
     "execution_count": 25,
     "metadata": {},
     "output_type": "execute_result"
    },
    {
     "data": {
      "image/png": "[encoded data removed]",
      "text/plain": [
       "<Figure size 432x288 with 1 Axes>"
      ]
     },
     "metadata": {
      "needs_background": "light"
     },
     "output_type": "display_data"
    }
   ],
   "source": [
    "# Plotted the first 5 most affected states.\n",
    "df_malaria.groupby('state')['malaria'].count().sort_values(ascending = False).head(5).plot.bar()"
   ]
  },
  {
   "cell_type": "code",
   "execution_count": 53,
   "id": "7390b112",
   "metadata": {},
   "outputs": [
    {
     "data": {
      "text/plain": [
       "<AxesSubplot:xlabel='state'>"
      ]
     },
     "metadata": {},
     "output_type": "display_data"
    },
    {
     "data": {
      "text/plain": [
       "(array([700., 720., 740., 760., 780., 800., 820., 840.]),\n",
       " [Text(0, 0, ''),\n",
       "  Text(0, 0, ''),\n",
       "  Text(0, 0, ''),\n",
       "  Text(0, 0, ''),\n",
       "  Text(0, 0, ''),\n",
       "  Text(0, 0, ''),\n",
       "  Text(0, 0, ''),\n",
       "  Text(0, 0, '')])"
      ]
     },
     "execution_count": 53,
     "metadata": {},
     "output_type": "execute_result"
    },
    {
     "data": {
      "image/png": "[encoded data removed]",
      "text/plain": [
       "<Figure size 1152x576 with 1 Axes>"
      ]
     },
     "metadata": {
      "needs_background": "light"
     },
     "output_type": "display_data"
    }
   ],
   "source": [
    "# Plotted the cases of malaria prevalence according to geo-political zones using a line graph\n",
    "plt.rcParams['figure.figsize'] = [16, 8]\n",
    "display(df_malaria.groupby('state')['malaria'].sum().astype(int).plot.line(color ='purple'))\n",
    "\n",
    "plt.xticks(rotation = 0, fontweight = 'bold', fontsize =10)\n",
    "plt.title('MALARIA PREVALENCE PER STATE', fontsize = 10, fontweight = 'bold')\n",
    "plt.ylabel('')\n",
    "plt.yticks(fontweight = 'bold',fontsize =10)"
   ]
  },
  {
   "cell_type": "code",
   "execution_count": 26,
   "id": "5bd68518",
   "metadata": {},
   "outputs": [
    {
     "data": {
      "text/plain": [
       "<AxesSubplot:xlabel='state'>"
      ]
     },
     "execution_count": 26,
     "metadata": {},
     "output_type": "execute_result"
    },
    {
     "data": {
      "image/png": "[encoded data removed]",
      "text/plain": [
       "<Figure size 432x288 with 1 Axes>"
      ]
     },
     "metadata": {
      "needs_background": "light"
     },
     "output_type": "display_data"
    }
   ],
   "source": [
    "# Plotted the least 5 affected states.\n",
    "df_malaria.groupby('state')['malaria'].count().sort_values(ascending = True).head(5).plot.bar()"
   ]
  },
  {
   "cell_type": "code",
   "execution_count": 27,
   "id": "af18f48f",
   "metadata": {},
   "outputs": [
    {
     "data": {
      "text/plain": [
       "<AxesSubplot:xlabel='Region'>"
      ]
     },
     "execution_count": 27,
     "metadata": {},
     "output_type": "execute_result"
    },
    {
     "data": {
      "image/png": "[encoded data removed]",
      "text/plain": [
       "<Figure size 432x288 with 1 Axes>"
      ]
     },
     "metadata": {
      "needs_background": "light"
     },
     "output_type": "display_data"
    }
   ],
   "source": [
    "# Plotted the cases of malaria prevalence according to geo-political zones using a bar-chart\n",
    "df_malaria.groupby('Region')['malaria'].count().sort_values(ascending = False).plot. bar()"
   ]
  },
  {
   "cell_type": "code",
   "execution_count": 54,
   "id": "edcd0ec2",
   "metadata": {},
   "outputs": [
    {
     "data": {
      "text/plain": [
       "<AxesSubplot:xlabel='Region'>"
      ]
     },
     "metadata": {},
     "output_type": "display_data"
    },
    {
     "data": {
      "text/plain": [
       "(array([3750., 4000., 4250., 4500., 4750., 5000., 5250., 5500., 5750.]),\n",
       " [Text(0, 0, ''),\n",
       "  Text(0, 0, ''),\n",
       "  Text(0, 0, ''),\n",
       "  Text(0, 0, ''),\n",
       "  Text(0, 0, ''),\n",
       "  Text(0, 0, ''),\n",
       "  Text(0, 0, ''),\n",
       "  Text(0, 0, ''),\n",
       "  Text(0, 0, '')])"
      ]
     },
     "execution_count": 54,
     "metadata": {},
     "output_type": "execute_result"
    },
    {
     "data": {
      "image/png": "[encoded data removed]",
      "text/plain": [
       "<Figure size 1152x576 with 1 Axes>"
      ]
     },
     "metadata": {
      "needs_background": "light"
     },
     "output_type": "display_data"
    }
   ],
   "source": [
    "# Plotted the cases of malaria prevalence according to geo-political zones using a line graph\n",
    "plt.rcParams['figure.figsize'] = [16, 8]\n",
    "display(df_malaria.groupby('Region')['malaria'].sum().astype(int).plot.line(color ='purple'))\n",
    "\n",
    "plt.xticks(rotation = 0, fontweight = 'bold', fontsize =10)\n",
    "plt.title('MALARIA PREVALENCE PER REGION', fontsize = 10, fontweight = 'bold')\n",
    "plt.ylabel('')\n",
    "plt.yticks(fontweight = 'bold',fontsize =10)"
   ]
  },
  {
   "cell_type": "code",
   "execution_count": 28,
   "id": "4670d4f0",
   "metadata": {},
   "outputs": [
    {
     "data": {
      "text/plain": [
       "<matplotlib.legend.Legend at 0x2b28faa3490>"
      ]
     },
     "execution_count": 28,
     "metadata": {},
     "output_type": "execute_result"
    },
    {
     "data": {
      "image/png": "[encoded data removed]",
      "text/plain": [
       "<Figure size 432x288 with 1 Axes>"
      ]
     },
     "metadata": {
      "needs_background": "light"
     },
     "output_type": "display_data"
    }
   ],
   "source": [
    "# Plotted the cases of malaria prevalence acording to gender and settlement.\n",
    "sns.countplot(x = 'gender', data = df_malaria, hue = 'settlement')\n",
    "plt.legend(loc = 0)"
   ]
  },
  {
   "cell_type": "code",
   "execution_count": 29,
   "id": "e1a5a125",
   "metadata": {},
   "outputs": [
    {
     "data": {
      "text/plain": [
       "<AxesSubplot:ylabel='malaria'>"
      ]
     },
     "execution_count": 29,
     "metadata": {},
     "output_type": "execute_result"
    },
    {
     "data": {
      "image/png": "[encoded data removed]",
      "text/plain": [
       "<Figure size 432x288 with 1 Axes>"
      ]
     },
     "metadata": {},
     "output_type": "display_data"
    }
   ],
   "source": [
    "# A pie Chart showing the percentage of prevalence per geo-political zones.\n",
    "# The Nort-west and North-central had the highest prevalence.\n",
    "df_malaria.groupby('Region')['malaria'].count().sort_values(ascending = False).plot.pie(autopct='%.0f%%')\n"
   ]
  },
  {
   "cell_type": "code",
   "execution_count": 30,
   "id": "a5f9736d",
   "metadata": {},
   "outputs": [
    {
     "data": {
      "text/plain": [
       "state                      health_status\n",
       "Abia                       Alive            399\n",
       "                           Dead             399\n",
       "Adamawa                    Alive            397\n",
       "                           Dead             381\n",
       "Akwa Ibom                  Alive            392\n",
       "                           Dead             409\n",
       "Anambra                    Alive            351\n",
       "                           Dead             402\n",
       "Bauchi                     Alive            374\n",
       "                           Dead             372\n",
       "Bayelsa                    Alive            377\n",
       "                           Dead             406\n",
       "Benue                      Alive            390\n",
       "                           Dead             381\n",
       "Borno                      Alive            345\n",
       "                           Dead             368\n",
       "Cross River                Alive            390\n",
       "                           Dead             378\n",
       "Delta                      Alive            395\n",
       "                           Dead             378\n",
       "Ebonyi                     Alive            430\n",
       "                           Dead             401\n",
       "Edo                        Alive            390\n",
       "                           Dead             415\n",
       "Ekiti                      Alive            384\n",
       "                           Dead             371\n",
       "Enugu                      Alive            361\n",
       "                           Dead             381\n",
       "Federal Capital Territory  Alive            422\n",
       "                           Dead             383\n",
       "Gombe                      Alive            360\n",
       "                           Dead             361\n",
       "Imo                        Alive            373\n",
       "                           Dead             348\n",
       "Jigawa                     Alive            409\n",
       "                           Dead             392\n",
       "Kaduna                     Alive            390\n",
       "                           Dead             361\n",
       "Kano                       Alive            391\n",
       "                           Dead             442\n",
       "Katsina                    Alive            398\n",
       "                           Dead             380\n",
       "Kebbi                      Alive            406\n",
       "                           Dead             391\n",
       "Kogi                       Alive            396\n",
       "                           Dead             382\n",
       "Kwara                      Alive            435\n",
       "                           Dead             398\n",
       "Lagos                      Alive            387\n",
       "                           Dead             380\n",
       "Nasarawa                   Alive            360\n",
       "                           Dead             370\n",
       "Niger                      Alive            380\n",
       "                           Dead             389\n",
       "Ogun                       Alive            407\n",
       "                           Dead             373\n",
       "Ondo                       Alive            385\n",
       "                           Dead             384\n",
       "Osun                       Alive            383\n",
       "                           Dead             387\n",
       "Oyo                        Alive            409\n",
       "                           Dead             349\n",
       "Plateau                    Alive            363\n",
       "                           Dead             346\n",
       "Rivers                     Alive            409\n",
       "                           Dead             350\n",
       "Sokoto                     Alive            407\n",
       "                           Dead             376\n",
       "Taraba                     Alive            377\n",
       "                           Dead             409\n",
       "Yobe                       Alive            377\n",
       "                           Dead             390\n",
       "Zamfara                    Alive            366\n",
       "                           Dead             387\n",
       "Name: health_status, dtype: int64"
      ]
     },
     "execution_count": 30,
     "metadata": {},
     "output_type": "execute_result"
    }
   ],
   "source": [
    "# Checking for survival/fatality prevalence in each state\n",
    "# \n",
    "pd.set_option('display.max_rows', 74)\n",
    "df_malaria.groupby(['state','health_status'])['health_status'].count()"
   ]
  },
  {
   "cell_type": "code",
   "execution_count": null,
   "id": "9ea12480",
   "metadata": {},
   "outputs": [],
   "source": []
  }
 ],
 "metadata": {
  "kernelspec": {
   "display_name": "Python 3 (ipykernel)",
   "language": "python",
   "name": "python3"
  },
  "language_info": {
   "codemirror_mode": {
    "name": "ipython",
    "version": 3
   },
   "file_extension": ".py",
   "mimetype": "text/x-python",
   "name": "python",
   "nbconvert_exporter": "python",
   "pygments_lexer": "ipython3",
   "version": "3.9.12"
  }
 },
 "nbformat": 4,
 "nbformat_minor": 5
}
